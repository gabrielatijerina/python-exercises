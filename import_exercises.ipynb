{
 "cells": [
  {
   "cell_type": "code",
   "execution_count": 6,
   "metadata": {},
   "outputs": [
    {
     "data": {
      "text/plain": [
       "False"
      ]
     },
     "execution_count": 6,
     "metadata": {},
     "output_type": "execute_result"
    }
   ],
   "source": [
    "import function_exercises\n",
    "function_exercises.is_vowel(\"b\")"
   ]
  },
  {
   "cell_type": "code",
   "execution_count": 8,
   "metadata": {},
   "outputs": [
    {
     "data": {
      "text/plain": [
       "'Tacos'"
      ]
     },
     "execution_count": 8,
     "metadata": {},
     "output_type": "execute_result"
    }
   ],
   "source": [
    "import function_exercises\n",
    "function_exercises.capitalize_if_consonant(\"tacos\")"
   ]
  },
  {
   "cell_type": "code",
   "execution_count": 9,
   "metadata": {},
   "outputs": [
    {
     "data": {
      "text/plain": [
       "15.0"
      ]
     },
     "execution_count": 9,
     "metadata": {},
     "output_type": "execute_result"
    }
   ],
   "source": [
    "import function_exercises \n",
    "function_exercises.calculate_tip(.3, 50)"
   ]
  },
  {
   "cell_type": "code",
   "execution_count": 12,
   "metadata": {},
   "outputs": [
    {
     "data": {
      "text/plain": [
       "<itertools.combinations at 0x7fda0e0d04a0>"
      ]
     },
     "execution_count": 12,
     "metadata": {},
     "output_type": "execute_result"
    }
   ],
   "source": [
    "import itertools\n",
    "\n",
    "from itertools import combinations\n",
    "combinations('ABC',2)"
   ]
  },
  {
   "cell_type": "code",
   "execution_count": 13,
   "metadata": {},
   "outputs": [
    {
     "data": {
      "text/plain": [
       "6"
      ]
     },
     "execution_count": 13,
     "metadata": {},
     "output_type": "execute_result"
    }
   ],
   "source": [
    "import itertools as it\n",
    "len(list(it.product([1, 2, 3], 'abc')))\n",
    "\n",
    "len(list(it.combinations('abcd', 2)))"
   ]
  },
  {
   "cell_type": "code",
   "execution_count": 18,
   "metadata": {},
   "outputs": [],
   "source": [
    "import json\n",
    "profiles = json.load(open('profiles.json'))"
   ]
  },
  {
   "cell_type": "code",
   "execution_count": 10,
   "metadata": {},
   "outputs": [
    {
     "data": {
      "text/plain": [
       "19"
      ]
     },
     "execution_count": 10,
     "metadata": {},
     "output_type": "execute_result"
    }
   ],
   "source": [
    "# Total number of uses \n",
    "len(profiles)"
   ]
  },
  {
   "cell_type": "code",
   "execution_count": 16,
   "metadata": {},
   "outputs": [
    {
     "data": {
      "text/plain": [
       "9"
      ]
     },
     "execution_count": 16,
     "metadata": {},
     "output_type": "execute_result"
    }
   ],
   "source": [
    "# Total number of active users \n",
    "len([profile for profile in profiles if profile['isActive']])"
   ]
  },
  {
   "cell_type": "code",
   "execution_count": 11,
   "metadata": {},
   "outputs": [
    {
     "data": {
      "text/plain": [
       "10"
      ]
     },
     "execution_count": 11,
     "metadata": {},
     "output_type": "execute_result"
    }
   ],
   "source": [
    "# Total number of inactive users\n",
    "len([profile for profile in profiles if not profile['isActive']])"
   ]
  },
  {
   "cell_type": "code",
   "execution_count": 12,
   "metadata": {},
   "outputs": [
    {
     "data": {
      "text/plain": [
       "52667.02"
      ]
     },
     "execution_count": 12,
     "metadata": {},
     "output_type": "execute_result"
    }
   ],
   "source": [
    "# Grand total of balances for all users \n",
    "def clean_balance(balance):\n",
    "    balance = balance.replace(',', '')\n",
    "    balance = balance.replace('$', '')\n",
    "    return float(balance)\n",
    "\n",
    "balances = [profile['balance'] for profile in profiles]\n",
    "balances = [balance.replace(',', '') for balance in balances]\n",
    "balances = [balance.replace('$', '') for balance in balances]\n",
    "balances = [float(balance) for balance in balances]\n",
    "sum(balances)"
   ]
  },
  {
   "cell_type": "code",
   "execution_count": 13,
   "metadata": {},
   "outputs": [
    {
     "data": {
      "text/plain": [
       "2771.9484210526316"
      ]
     },
     "execution_count": 13,
     "metadata": {},
     "output_type": "execute_result"
    }
   ],
   "source": [
    "sum(balances) / len(balances)"
   ]
  },
  {
   "cell_type": "code",
   "execution_count": 17,
   "metadata": {},
   "outputs": [
    {
     "data": {
      "text/plain": [
       "'Avery Flynn'"
      ]
     },
     "execution_count": 17,
     "metadata": {},
     "output_type": "execute_result"
    }
   ],
   "source": [
    "#User with lowest balance\n",
    "user_with_lowest_balance = profiles[0]\n",
    "# Now we can loop through the remaining profiles and compare the balances\n",
    "for profile in profiles[1:]:\n",
    "    # if the current profile has a lower balance than our lowest balance so far,\n",
    "    if clean_balance(profile['balance']) < clean_balance(user_with_lowest_balance['balance']):\n",
    "        # set this profile as the user with the lowest balance\n",
    "        user_with_lowest_balance = profile\n",
    "\n",
    "user_with_lowest_balance['name']"
   ]
  },
  {
   "cell_type": "code",
   "execution_count": 23,
   "metadata": {},
   "outputs": [
    {
     "data": {
      "text/plain": [
       "{'_id': '54e23c3e54e4094147a3b1da',\n",
       " 'index': 3,\n",
       " 'guid': '69eb3454-8acc-46f1-a636-c6df00dfb542',\n",
       " 'isActive': False,\n",
       " 'balance': '$3,919.64',\n",
       " 'picture': 'http://placehold.it/32x32',\n",
       " 'age': 20,\n",
       " 'eyeColor': 'green',\n",
       " 'name': 'Fay Hammond',\n",
       " 'gender': 'female',\n",
       " 'company': 'INRT',\n",
       " 'email': 'fayhammond@inrt.com',\n",
       " 'phone': '+1 (922) 429-2592',\n",
       " 'address': '518 Randolph Street, Whitestone, Arizona, 8189',\n",
       " 'about': 'Aliqua sunt exercitation quis cupidatat fugiat nulla laboris occaecat ut reprehenderit qui incididunt. Amet excepteur qui amet mollit sint enim velit est dolor eu. Velit labore ea aute ipsum consequat culpa cupidatat excepteur aliqua. Sit commodo id est deserunt commodo. Labore sit deserunt enim in dolore incididunt. Officia qui est veniam cillum consequat minim duis Lorem esse magna culpa cupidatat cupidatat enim. Amet eiusmod elit qui reprehenderit commodo quis.\\r\\n',\n",
       " 'registered': '2015-01-30T08:05:38 +06:00',\n",
       " 'latitude': 33.825844,\n",
       " 'longitude': -65.969538,\n",
       " 'tags': ['aliqua', 'esse', 'sint', 'pariatur', 'commodo', 'do', 'anim'],\n",
       " 'friends': [{'id': 0, 'name': 'Dudley Booker'},\n",
       "  {'id': 1, 'name': 'Esmeralda Tyler'},\n",
       "  {'id': 2, 'name': 'Rosa Hampton'}],\n",
       " 'greeting': 'Hello, Fay Hammond! You have 10 unread messages.',\n",
       " 'favoriteFruit': 'banana'}"
      ]
     },
     "execution_count": 23,
     "metadata": {},
     "output_type": "execute_result"
    }
   ],
   "source": [
    "#User with highest balance\n",
    "user_with_highest_balance = profiles[0]\n",
    "for profile in profiles[1:]:\n",
    "    if clean_balance(profile['balance']) > clean_balance(user_with_highest_balance['balance']):\n",
    "        user_with_highest_balance = profile\n",
    "\n",
    "user_with_highest_balance"
   ]
  },
  {
   "cell_type": "code",
   "execution_count": 24,
   "metadata": {},
   "outputs": [
    {
     "data": {
      "text/plain": [
       "['strawberry',\n",
       " 'apple',\n",
       " 'banana',\n",
       " 'banana',\n",
       " 'apple',\n",
       " 'apple',\n",
       " 'banana',\n",
       " 'strawberry',\n",
       " 'strawberry',\n",
       " 'banana',\n",
       " 'strawberry',\n",
       " 'strawberry',\n",
       " 'apple',\n",
       " 'strawberry',\n",
       " 'strawberry',\n",
       " 'banana',\n",
       " 'strawberry',\n",
       " 'banana',\n",
       " 'strawberry']"
      ]
     },
     "execution_count": 24,
     "metadata": {},
     "output_type": "execute_result"
    }
   ],
   "source": [
    "# Most common favorite fruit\n",
    "\n",
    "favorite_fruits = [profile['favoriteFruit'] for profile in profiles]\n",
    "favorite_fruits"
   ]
  },
  {
   "cell_type": "code",
   "execution_count": 26,
   "metadata": {},
   "outputs": [
    {
     "data": {
      "text/plain": [
       "{'strawberry': 9, 'apple': 4, 'banana': 6}"
      ]
     },
     "execution_count": 26,
     "metadata": {},
     "output_type": "execute_result"
    }
   ],
   "source": [
    "# Most common favorite fruit\n",
    "# Our goal here is to transform the list above into a dictionary where the keys are the unique fruit names,\n",
    "# and the values are the number of times that fruit appears in the list above.\n",
    "\n",
    "# To do so, we'll start with an empty dictionary:\n",
    "fruit_counts = {}\n",
    "\n",
    "# Now we can loop through the list of favorite fruits\n",
    "for fruit in favorite_fruits:\n",
    "    # if the fruit name already exists as a key in the fruit_counts dictionary\n",
    "    if fruit in fruit_counts:\n",
    "        # We already have started a acount for this fruit\n",
    "        # add 1 to the number of times that fruit appears\n",
    "        fruit_counts[fruit] += 1\n",
    "    else:\n",
    "        # We don't yet have an entry for this fruit\n",
    "        # Create it and set it to 1\n",
    "        fruit_counts[fruit] = 1\n",
    "\n",
    "fruit_counts\n",
    "\n"
   ]
  },
  {
   "cell_type": "code",
   "execution_count": null,
   "metadata": {},
   "outputs": [],
   "source": [
    "# Strawberry is most common favorite fruit. \n",
    "# Apple is least common favorite fruit. "
   ]
  },
  {
   "cell_type": "code",
   "execution_count": 27,
   "metadata": {},
   "outputs": [
    {
     "data": {
      "text/plain": [
       "210"
      ]
     },
     "execution_count": 27,
     "metadata": {},
     "output_type": "execute_result"
    }
   ],
   "source": [
    "#Total number of unread messages for all users\n",
    "def extract_digits(s):\n",
    "    return ''.join([c for c in s if c.isdigit()])\n",
    "\n",
    "n_unread_messages = [extract_digits(profile['greeting']) for profile in profiles]\n",
    "sum([int(message) for message in n_unread_messages]) "
   ]
  }
 ],
 "metadata": {
  "kernelspec": {
   "display_name": "Python 3",
   "language": "python",
   "name": "python3"
  },
  "language_info": {
   "codemirror_mode": {
    "name": "ipython",
    "version": 3
   },
   "file_extension": ".py",
   "mimetype": "text/x-python",
   "name": "python",
   "nbconvert_exporter": "python",
   "pygments_lexer": "ipython3",
   "version": "3.8.5"
  }
 },
 "nbformat": 4,
 "nbformat_minor": 4
}
