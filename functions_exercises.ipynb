{
 "cells": [
  {
   "cell_type": "code",
   "execution_count": 13,
   "metadata": {},
   "outputs": [
    {
     "data": {
      "text/plain": [
       "True"
      ]
     },
     "execution_count": 13,
     "metadata": {},
     "output_type": "execute_result"
    }
   ],
   "source": [
    "#1 Define a function named is_two. It should accept one input and return True if the passed input is either the number or the string 2, False otherwise.\n",
    "\n",
    "def is_two(x):\n",
    "    if x == '2' or x == 2:\n",
    "        return True\n",
    "    else:\n",
    "        return False\n",
    "\n",
    "is_two(2)"
   ]
  },
  {
   "cell_type": "code",
   "execution_count": 15,
   "metadata": {},
   "outputs": [
    {
     "data": {
      "text/plain": [
       "False"
      ]
     },
     "execution_count": 15,
     "metadata": {},
     "output_type": "execute_result"
    }
   ],
   "source": [
    "#2 Define a function named is_vowel. It should return True if the passed string is a vowel, False otherwise.\n",
    "\n",
    "def is_vowel(char):\n",
    "    if char in \"aeiouAEIOU\":\n",
    "        return True\n",
    "    else:\n",
    "        return False \n",
    "\n",
    "is_vowel('b')"
   ]
  },
  {
   "cell_type": "code",
   "execution_count": 24,
   "metadata": {},
   "outputs": [
    {
     "data": {
      "text/plain": [
       "False"
      ]
     },
     "execution_count": 24,
     "metadata": {},
     "output_type": "execute_result"
    }
   ],
   "source": [
    "#3 Define a function named is_consonant. It should return True if the passed string is a consonant, False otherwise. Use your is_vowel function to accomplish this.\n",
    "\n",
    "def is_consonant(char):\n",
    "    if char not in \"aeiouAEIOU\":\n",
    "        return True\n",
    "    else:\n",
    "        return False \n",
    "\n",
    "is_consonant(\"a\")\n"
   ]
  },
  {
   "cell_type": "code",
   "execution_count": 25,
   "metadata": {
    "scrolled": true
   },
   "outputs": [
    {
     "data": {
      "text/plain": [
       "True"
      ]
     },
     "execution_count": 25,
     "metadata": {},
     "output_type": "execute_result"
    }
   ],
   "source": [
    "#3 Alternate solution\n",
    "\n",
    "def is_consonant(letter):\n",
    "    return is_vowel(letter) != True\n",
    "is_consonant('d')"
   ]
  },
  {
   "cell_type": "code",
   "execution_count": 23,
   "metadata": {},
   "outputs": [
    {
     "data": {
      "text/plain": [
       "'Taco'"
      ]
     },
     "execution_count": 23,
     "metadata": {},
     "output_type": "execute_result"
    }
   ],
   "source": [
    "#4 Define a function that accepts a string that is a word. The function should capitalize the first letter of the word if the word starts with a consonant.\n",
    "\n",
    "def caps_if_consonant(word):\n",
    "    if is_consonant(word[0])==True:\n",
    "        return word[0].upper() + word[1:]\n",
    "    else:\n",
    "            return word\n",
    "        \n",
    "caps_if_consonant(\"taco\")\n"
   ]
  },
  {
   "cell_type": "code",
   "execution_count": 27,
   "metadata": {},
   "outputs": [
    {
     "data": {
      "text/plain": [
       "4.0"
      ]
     },
     "execution_count": 27,
     "metadata": {},
     "output_type": "execute_result"
    }
   ],
   "source": [
    "#5 Define a function named calculate_tip. It should accept a tip percentage (a number between 0 and 1) and the bill total, and return the amount to tip.\n",
    "\n",
    "def calculate_tip(percentage, bill_total):\n",
    "    return percentage * bill_total\n",
    "\n",
    "calculate_tip(.2, 20)"
   ]
  },
  {
   "cell_type": "code",
   "execution_count": 29,
   "metadata": {},
   "outputs": [
    {
     "name": "stdout",
     "output_type": "stream",
     "text": [
      "Amount after discount is applied is \n"
     ]
    },
    {
     "data": {
      "text/plain": [
       "17.0"
      ]
     },
     "execution_count": 29,
     "metadata": {},
     "output_type": "execute_result"
    }
   ],
   "source": [
    "#6 Define a function named apply_discount. It should accept a original price, and a discount percentage, and return the price after the discount is applied.\n",
    "\n",
    "def apply_discount(original_price, discount_percentage):\n",
    "    print(\"Amount after discount is applied is \")\n",
    "    return (original_price)-(original_price*discount_percentage)\n",
    "\n",
    "apply_discount(20, .15)"
   ]
  },
  {
   "cell_type": "code",
   "execution_count": 32,
   "metadata": {},
   "outputs": [
    {
     "data": {
      "text/plain": [
       "2000"
      ]
     },
     "execution_count": 32,
     "metadata": {},
     "output_type": "execute_result"
    }
   ],
   "source": [
    "#7 Define a function named handle_commas. It should accept a string that is a number that contains commas in it as input, and return a number as output.\n",
    "\n",
    "def handle_commas(number):\n",
    "    return int(str(number).replace(',', ''))\n",
    "\n",
    "# .replace(',', '') replaces comma with a space\n",
    "\n",
    "handle_commas(\"2,000\")\n",
    "\n"
   ]
  },
  {
   "cell_type": "code",
   "execution_count": 33,
   "metadata": {},
   "outputs": [
    {
     "data": {
      "text/plain": [
       "'F'"
      ]
     },
     "execution_count": 33,
     "metadata": {},
     "output_type": "execute_result"
    }
   ],
   "source": [
    "#8 Define a function named get_letter_grade. It should accept a number and return the letter grade associated with that number (A-F).\n",
    "\n",
    "def get_letter_grade(grade):\n",
    "        if grade >= 90:\n",
    "                return('A')\n",
    "        elif grade >= 80:\n",
    "                return('B')\n",
    "        elif grade >= 70:\n",
    "                return('C')\n",
    "        elif grade >= 60:\n",
    "                return('D')\n",
    "        elif grade >= 0:\n",
    "                return('F')\n",
    "\n",
    "get_letter_grade(50)"
   ]
  },
  {
   "cell_type": "code",
   "execution_count": 9,
   "metadata": {},
   "outputs": [],
   "source": [
    "#9 Define a function named remove_vowels that accepts a string and returns a string with all the vowels removed.\n"
   ]
  },
  {
   "cell_type": "code",
   "execution_count": 10,
   "metadata": {},
   "outputs": [],
   "source": [
    "#10 Define a function named normalize_name. It should accept a string and return a valid python identifier, that is:\n",
    "    #anything that is not a valid python identifier should be removed\n",
    "    #leading and trailing whitespace should be removed\n",
    "    #everything should be lowercase\n",
    "    #spaces should be replaced with underscores\n",
    "    #for example:\n",
    "        # -Name will become name\n",
    "        # -First Name will become first_name\n",
    "        # -% Completed will become completed"
   ]
  },
  {
   "cell_type": "code",
   "execution_count": 11,
   "metadata": {},
   "outputs": [],
   "source": [
    "#11 Write a function named cumulative_sum that accepts a list of numbers and returns a list that is the cumulative sum of the numbers in the list.\n",
    "    #cumulative_sum([1, 1, 1]) returns [1, 2, 3]\n",
    "    #cumulative_sum([1, 2, 3, 4]) returns [1, 3, 6, 10]\n",
    "    \n",
    "    "
   ]
  },
  {
   "cell_type": "code",
   "execution_count": 12,
   "metadata": {},
   "outputs": [],
   "source": [
    "#Bonus 1 Create a function named twelveto24. It should accept a string in the format 10:45am or 4:30pm and return a string that is the representation of the time in a 24-hour format. Bonus write a function that does the opposite.\n"
   ]
  },
  {
   "cell_type": "code",
   "execution_count": null,
   "metadata": {},
   "outputs": [],
   "source": [
    "#Bonus 2 Create a function named col_index. It should accept a spreadsheet column name, and return the index number of the column.\n",
    "    #col_index('A') returns 1\n",
    "    #col_index('B') returns 2\n",
    "    #col_index('AA') returns 27"
   ]
  }
 ],
 "metadata": {
  "kernelspec": {
   "display_name": "Python 3",
   "language": "python",
   "name": "python3"
  },
  "language_info": {
   "codemirror_mode": {
    "name": "ipython",
    "version": 3
   },
   "file_extension": ".py",
   "mimetype": "text/x-python",
   "name": "python",
   "nbconvert_exporter": "python",
   "pygments_lexer": "ipython3",
   "version": "3.8.5"
  }
 },
 "nbformat": 4,
 "nbformat_minor": 4
}
